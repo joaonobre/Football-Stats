{
 "cells": [
  {
   "cell_type": "code",
   "execution_count": 1,
   "metadata": {},
   "outputs": [],
   "source": [
    "import requests\n",
    "import json\n",
    "import numpy as np\n",
    "import pandas as pd\n",
    "from sklearn.linear_model import LinearRegression\n",
    "import xgboost as xgb\n",
    "from sklearn.model_selection import train_test_split\n",
    "from sklearn.metrics import accuracy_score"
   ]
  },
  {
   "cell_type": "code",
   "execution_count": 2,
   "metadata": {},
   "outputs": [],
   "source": [
    "import os\n",
    "os.environ['http_proxy'] = \"http://ptamax01-proxy001.emea.nsn-net.net:8080/\" \n",
    "os.environ['https_proxy'] = \"http://ptamax01-proxy001.emea.nsn-net.net:8080/\"                 "
   ]
  },
  {
   "cell_type": "markdown",
   "metadata": {},
   "source": [
    "## Famous leagues and abbreviations:\n",
    "* Barclays Premier League: PL\n",
    "* La Liga Santander: PD\n",
    "* Bundesliga: BL1\n",
    "* Liga NOS: PPL\n",
    "* Ligue 1: FL1\n",
    "* Serie A: SA"
   ]
  },
  {
   "cell_type": "code",
   "execution_count": 17,
   "metadata": {},
   "outputs": [
    {
     "name": "stdout",
     "output_type": "stream",
     "text": [
      "List of teams:  ['AS Monaco FC' 'AS Saint-Étienne' 'Amiens SC' 'Angers SCO'\n",
      " \"Dijon Football Côte d'Or\" 'FC Girondins de Bordeaux' 'FC Metz'\n",
      " 'FC Nantes' 'Lille OSC' 'Montpellier HSC' 'Nîmes Olympique' 'OGC Nice'\n",
      " 'Olympique Lyonnais' 'Olympique de Marseille' 'Paris Saint-Germain FC'\n",
      " 'RC Strasbourg Alsace' 'Stade Brestois 29' 'Stade Rennais FC 1901'\n",
      " 'Stade de Reims' 'Toulouse FC']\n",
      "Team name:Montpellier HSC\n"
     ]
    }
   ],
   "source": [
    "match_master_list=[]\n",
    "league='FL1' #insert here the chosen abbreviation\n",
    "\n",
    "for year in range(2018,2020):   \n",
    "    uri = 'http://api.football-data.org/v2/competitions/'+league+'/matches?season=' + str(year)\n",
    "    headers = { 'X-Auth-Token': '291d3414a2f641ba9d97102df496e9cd' }\n",
    "    response = requests.get(uri, headers=headers)      \n",
    "    match_list=response.json()['matches']\n",
    "    match_master_list.append(match_list)\n",
    "    nr_games=len(match_list)\n",
    "    \n",
    "    teams_list=[match_list[i]['homeTeam']['name'] for i in range (0, nr_games)]   \n",
    "           \n",
    "    if year == 2019:\n",
    "        teams_list=np.unique(teams_list)\n",
    "        print(\"List of teams: \" ,teams_list)\n",
    "        team=input(\"Team name:\")"
   ]
  },
  {
   "cell_type": "code",
   "execution_count": 18,
   "metadata": {},
   "outputs": [],
   "source": [
    "team_matches=[]\n",
    "next_matches=[]\n",
    "next_home_away=[]\n",
    "score_list=[]\n",
    "goals_list=[]\n",
    "home_away_list=[]\n",
    "winner=[]\n",
    "scheduled=1\n",
    "\n",
    "for j in range (0, len(match_master_list)):\n",
    "    for i in range (0, nr_games):\n",
    "    \n",
    "        if match_master_list[j][i]['homeTeam']['name']==team or match_master_list[j][i]['awayTeam']['name']==team:\n",
    "            \n",
    "            if match_master_list[j][i]['status']=='FINISHED':\n",
    "                game= match_master_list[j][i]['homeTeam']['name']+\" vs \"+ match_master_list[j][i]['awayTeam']['name']\n",
    "                \n",
    "                if (team == game.split(\" vs \")[0]):\n",
    "                    home_away_list.append(1)\n",
    "                    \n",
    "                    if(match_master_list[j][i]['score']['winner']=='HOME_TEAM'):\n",
    "                        winner.append(1)\n",
    "                    \n",
    "                    else:\n",
    "                        winner.append(0)\n",
    "                \n",
    "                else:\n",
    "                    home_away_list.append(0)\n",
    "                    \n",
    "                    if(match_master_list[j][i]['score']['winner']=='AWAY_TEAM'):\n",
    "                        winner.append(1)\n",
    "                    \n",
    "                    else:\n",
    "                        winner.append(0)\n",
    "                        \n",
    "                team_matches.append(game)\n",
    "                result= str(match_master_list[j][i]['score']['fullTime']['homeTeam'])+ \" - \" + str(match_master_list[j][i]['score']['fullTime']['awayTeam'])\n",
    "                score_list.append(result)\n",
    "                goals_list.append(int(match_master_list[j][i]['score']['fullTime']['homeTeam'])+int(match_master_list[j][i]['score']['fullTime']['awayTeam']))\n",
    "                played=len(team_matches)\n",
    "                \n",
    "            if match_master_list[j][i]['status']!='FINISHED':\n",
    "                game= match_master_list[j][i]['homeTeam']['name']+\" vs \"+ match_master_list[j][i]['awayTeam']['name']\n",
    "                \n",
    "                if (team == game.split(\" vs \")[0]):\n",
    "                    home_away_list.append(1)\n",
    "                    \n",
    "                else:\n",
    "                    home_away_list.append(0)\n",
    "                    \n",
    "                team_matches.append(game)\n",
    "                score_list.append(0)\n",
    "                goals_list.append(0)\n",
    "                winner.append(0)"
   ]
  },
  {
   "cell_type": "code",
   "execution_count": 19,
   "metadata": {},
   "outputs": [],
   "source": [
    "#Calling DataFrame constructor after zipping \n",
    "# both lists, with columns specified \n",
    "df = pd.DataFrame(list(zip(team_matches, home_away_list, goals_list, winner)), \n",
    "               columns =['Match', 'Home/Away', 'Goals', 'Won']) \n",
    "\n",
    "labels, uniques = pd.factorize(df.Match)\n",
    "df['Match']=labels"
   ]
  },
  {
   "cell_type": "code",
   "execution_count": 20,
   "metadata": {},
   "outputs": [],
   "source": [
    "mode='Won' #Choose to predict which team is going to win (insert Won) or how many goals will the match have (insert Goals)\n",
    "ngoals=2.5 #The goals threshold, the game will have more or less than ngoals\n",
    "\n",
    "X=df.filter(['Match', 'Home/Away'], axis=1)[:played]\n",
    "y=df[mode][:played]\n",
    "next_game=df.filter(['Match', 'Home/Away'], axis=1)[played:]\n",
    "\n",
    "if mode=='Goals':\n",
    "    y=[1 if i>ngoals else 0 for i in y]\n",
    "\n",
    "def convert_divide(dataframe, df_format,split):\n",
    "    \"\"\"\n",
    "    Converts a pandas dataframe to matrix or array and splits it into training and test set \n",
    "    according to the input percentage.\n",
    "    Args:\n",
    "        dataframe: the input dataframe to split\n",
    "        df_format: 'Matrix' if the dataframe is to be converted into a matrix\n",
    "                   'Array' if the dataframe is to be converted into an array\n",
    "        split: The split percentage to split the dataframe into training and test sets\n",
    "    Returns: Training and test sets properly splitted\n",
    "    \"\"\"\n",
    "    \n",
    "    div=int(len(X)*split*0.01)\n",
    "    dataframe = np.matrix(dataframe) if df_format == 'Matrix' else np.array(dataframe)    \n",
    "    df_train=dataframe[:div]\n",
    "    df_test=dataframe[div:]\n",
    "    return df_train, df_test\n",
    "\n",
    "X_train, X_test = convert_divide(X, 'Matrix', 80)\n",
    "y_train, y_test = convert_divide(y, 'Array', 80)\n",
    "next_game=np.matrix(next_game)"
   ]
  },
  {
   "cell_type": "code",
   "execution_count": 21,
   "metadata": {},
   "outputs": [
    {
     "name": "stdout",
     "output_type": "stream",
     "text": [
      "[0.4252089  0.4262876  0.56076944 0.4262876  0.4850299  0.31968567\n",
      " 0.56076944 0.31968567 0.4850299  0.42521676 0.42521676 0.31968567]\n",
      "Accuracy: 0.5833333333333334\n"
     ]
    }
   ],
   "source": [
    "dtrain = xgb.DMatrix(X_train, label=y_train)\n",
    "dtest = xgb.DMatrix(X_test, label=y_test)\n",
    "next_game_matrix=xgb.DMatrix(next_game[0])\n",
    "\n",
    "param = {\n",
    "    'max_depth': 5,  # the maximum depth of each tree\n",
    "    'eta': 0.01,  # the training step for each iteration\n",
    "    'silent': 1,  # logging mode - quiet\n",
    "    'objective': 'binary:logistic',  # error evaluation for multiclass training\n",
    "    'eval_metric' : 'logloss'\n",
    "}\n",
    "\n",
    "num_round = 100 # the number of training iterations\n",
    "\n",
    "bst = xgb.train(param, dtrain, num_round)\n",
    "\n",
    "preds = bst.predict(dtest)\n",
    "print(preds)\n",
    "\n",
    "print (\"Accuracy:\", accuracy_score(y_test, preds.round()))"
   ]
  },
  {
   "cell_type": "code",
   "execution_count": 22,
   "metadata": {},
   "outputs": [
    {
     "name": "stdout",
     "output_type": "stream",
     "text": [
      "Montpellier HSC has a probability of:  48.50299060344696 % to win the next match.\n"
     ]
    }
   ],
   "source": [
    "if (mode=='Goals'):\n",
    "    print('The next match has a probability of: ', bst.predict(next_game_matrix)[0]*100, '% to have more than', ngoals, 'goals.')\n",
    "else:\n",
    "    print(team, 'has a probability of: ', bst.predict(next_game_matrix)[0]*100, '% to win the next match.')\n",
    "    print(\"Bet on \" , team,  \"to win with an odd of: \", (1-final_accuracy)*4 )"
   ]
  },
  {
   "cell_type": "code",
   "execution_count": 202,
   "metadata": {},
   "outputs": [
    {
     "data": {
      "image/png": "[encoded data removed]",
      "text/plain": [
       "<Figure size 720x720 with 20 Axes>"
      ]
     },
     "metadata": {
      "needs_background": "light"
     },
     "output_type": "display_data"
    }
   ],
   "source": [
    "import seaborn as sns\n",
    "\n",
    "g = sns.pairplot(df, \n",
    "                 diag_kind='hist',  # histogram plot for diag\n",
    "                 dropna=True,\n",
    "                 palette=sns.color_palette(['red', 'green']), # # yes is green and no is red\n",
    "                 plot_kws={\n",
    "                     's':3 # size of the point\n",
    "                 },\n",
    "                 \n",
    "                )"
   ]
  },
  {
   "cell_type": "code",
   "execution_count": null,
   "metadata": {},
   "outputs": [],
   "source": []
  }
 ],
 "metadata": {
  "kernelspec": {
   "display_name": "Python 3",
   "language": "python",
   "name": "python3"
  },
  "language_info": {
   "codemirror_mode": {
    "name": "ipython",
    "version": 3
   },
   "file_extension": ".py",
   "mimetype": "text/x-python",
   "name": "python",
   "nbconvert_exporter": "python",
   "pygments_lexer": "ipython3",
   "version": "3.7.3"
  }
 },
 "nbformat": 4,
 "nbformat_minor": 2
}
