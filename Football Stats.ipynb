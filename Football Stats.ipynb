{
 "cells": [
  {
   "cell_type": "code",
   "execution_count": 1,
   "metadata": {},
   "outputs": [],
   "source": [
    "import requests\n",
    "import json\n",
    "import numpy as np\n",
    "import pandas as pd\n",
    "from sklearn.linear_model import LinearRegression\n",
    "from xgboost import XGBClassifier\n",
    "from sklearn.model_selection import train_test_split\n",
    "from sklearn.metrics import accuracy_score \n"
   ]
  },
  {
   "cell_type": "code",
   "execution_count": 530,
   "metadata": {},
   "outputs": [
    {
     "name": "stdout",
     "output_type": "stream",
     "text": [
      "List of teams:  ['Athletic Club' 'CA Osasuna' 'CD Leganés' 'Club Atlético de Madrid'\n",
      " 'Deportivo Alavés' 'FC Barcelona' 'Getafe CF' 'Granada CF' 'Levante UD'\n",
      " 'RC Celta de Vigo' 'RCD Espanyol de Barcelona' 'RCD Mallorca'\n",
      " 'Real Betis Balompié' 'Real Madrid CF' 'Real Sociedad de Fútbol'\n",
      " 'Real Valladolid CF' 'SD Eibar' 'Sevilla FC' 'Valencia CF'\n",
      " 'Villarreal CF']\n",
      "Team name:Valencia CF\n"
     ]
    }
   ],
   "source": [
    "match_master_list=list()\n",
    "#La liga PD\n",
    "#BPL PL\n",
    "#Bundes BL1\n",
    "#Liga portuguesa PPL\n",
    "#França FL1\n",
    "#Italia SA\n",
    "for year in range(2017,2020):   \n",
    "    uri = 'http://api.football-data.org/v2/competitions/PD/matches?season=' + str(year)\n",
    "    headers = { 'X-Auth-Token': '291d3414a2f641ba9d97102df496e9cd' }\n",
    "    response = requests.get(uri, headers=headers)\n",
    "        \n",
    "    match_list=response.json()['matches']\n",
    "    #match_list=match_list[::-1]\n",
    "    match_master_list.append(match_list)\n",
    "    nr_games=len(match_list)\n",
    "    teams_list=list()\n",
    "    for i in range (0, nr_games):\n",
    "        teams_list.append(match_list[i]['homeTeam']['name'])\n",
    "    if year == 2019:\n",
    "        teams_list=np.unique(teams_list)\n",
    "        print(\"List of teams: \" ,teams_list)\n",
    "        team=input(\"Team name:\")"
   ]
  },
  {
   "cell_type": "code",
   "execution_count": 531,
   "metadata": {},
   "outputs": [
    {
     "name": "stdout",
     "output_type": "stream",
     "text": [
      "Valencia CF vs CD Leganés\n",
      "Valencia CF vs Getafe CF\n",
      "Athletic Club vs Valencia CF\n",
      "Valencia CF vs Deportivo Alavés\n",
      "Club Atlético de Madrid vs Valencia CF\n",
      "CA Osasuna vs Valencia CF\n",
      "Valencia CF vs Sevilla FC\n",
      "RCD Espanyol de Barcelona vs Valencia CF\n",
      "Valencia CF vs Granada CF\n",
      "Real Betis Balompié vs Valencia CF\n",
      "Valencia CF vs Villarreal CF\n",
      "Levante UD vs Valencia CF\n",
      "Valencia CF vs Real Madrid CF\n",
      "Real Valladolid CF vs Valencia CF\n",
      "Valencia CF vs SD Eibar\n",
      "RCD Mallorca vs Valencia CF\n",
      "Valencia CF vs FC Barcelona\n",
      "Valencia CF vs RC Celta de Vigo\n",
      "Getafe CF vs Valencia CF\n",
      "Valencia CF vs Club Atlético de Madrid\n",
      "Valencia CF vs Real Betis Balompié\n",
      "Deportivo Alavés vs Valencia CF\n",
      "Valencia CF vs Levante UD\n",
      "Real Madrid CF vs Valencia CF\n",
      "Real Sociedad de Fútbol vs Valencia CF\n",
      "Valencia CF vs CA Osasuna\n",
      "SD Eibar vs Valencia CF\n",
      "Villarreal CF vs Valencia CF\n",
      "Valencia CF vs Athletic Club\n",
      "Granada CF vs Valencia CF\n",
      "Valencia CF vs Real Valladolid CF\n",
      "CD Leganés vs Valencia CF\n",
      "Valencia CF vs RCD Espanyol de Barcelona\n",
      "Sevilla FC vs Valencia CF\n"
     ]
    }
   ],
   "source": [
    "#Choose team to show information\n",
    "#Fazer dropdown\n",
    "\n",
    "team_matches=list()\n",
    "next_matches=list()\n",
    "next_home_away=list()\n",
    "score_list=list()\n",
    "goals_list=list()\n",
    "home_away_list=list()\n",
    "winner=list()\n",
    "scheduled=1\n",
    "for j in range (0, len(match_master_list)):\n",
    "    for i in range (0, nr_games):\n",
    "    \n",
    "        if match_master_list[j][i]['homeTeam']['name']==team or match_master_list[j][i]['awayTeam']['name']==team:\n",
    "            if match_master_list[j][i]['status']=='FINISHED':\n",
    "                game= match_master_list[j][i]['homeTeam']['name']+\" vs \"+ match_master_list[j][i]['awayTeam']['name']\n",
    "                if (team == game.split(\" vs \")[0]):\n",
    "                    home_away_list.append(1)\n",
    "                    if(match_master_list[j][i]['score']['winner']=='HOME_TEAM'):\n",
    "                        winner.append(1)\n",
    "                    else:\n",
    "                        winner.append(0)\n",
    "                else:\n",
    "                    home_away_list.append(0)\n",
    "                    if(match_master_list[j][i]['score']['winner']=='AWAY_TEAM'):\n",
    "                        winner.append(1)\n",
    "                    else:\n",
    "                        winner.append(0)\n",
    "                        \n",
    "                team_matches.append(game)\n",
    "                result= str(match_master_list[j][i]['score']['fullTime']['homeTeam'])+ \" - \" + str(match_master_list[j][i]['score']['fullTime']['awayTeam'])\n",
    "                score_list.append(result)\n",
    "                goals_list.append(int(match_master_list[j][i]['score']['fullTime']['homeTeam'])+int(match_master_list[j][i]['score']['fullTime']['awayTeam']))\n",
    "                #if ['score']['winner']\n",
    "                #print(result)\n",
    "                played=len(team_matches)\n",
    "            if match_master_list[j][i]['status']!='FINISHED':\n",
    "                \n",
    "                game= match_master_list[j][i]['homeTeam']['name']+\" vs \"+ match_master_list[j][i]['awayTeam']['name']\n",
    "                if (team == game.split(\" vs \")[0]):\n",
    "                    home_away_list.append(1)\n",
    "                else:\n",
    "                    home_away_list.append(0)\n",
    "                print(game)\n",
    "                team_matches.append(game)\n",
    "                score_list.append(0)\n",
    "                goals_list.append(0)\n",
    "                winner.append(0)"
   ]
  },
  {
   "cell_type": "code",
   "execution_count": 532,
   "metadata": {},
   "outputs": [],
   "source": [
    "#Calling DataFrame constructor after zipping \n",
    "# both lists, with columns specified \n",
    "df = pd.DataFrame(list(zip(team_matches, home_away_list, goals_list, winner)), \n",
    "               columns =['Match', 'Home/Away', 'Goals', 'Won']) "
   ]
  },
  {
   "cell_type": "code",
   "execution_count": 533,
   "metadata": {},
   "outputs": [],
   "source": [
    "labels, uniques = pd.factorize(df.Match)\n",
    "df['Match']=labels"
   ]
  },
  {
   "cell_type": "code",
   "execution_count": 539,
   "metadata": {},
   "outputs": [
    {
     "name": "stdout",
     "output_type": "stream",
     "text": [
      "60\n"
     ]
    }
   ],
   "source": [
    "X=df.filter(['Match', 'Home/Away'], axis=1)[:played]\n",
    "y=df['Goals']\n",
    "y=y[:played]\n",
    "next_g=df.filter(['Match', 'Home/Away'], axis=1)[played:]\n",
    "X=np.matrix(X)\n",
    "y=np.array(y)\n",
    "next_g=np.matrix(next_g)\n",
    "\n",
    "div=int(len(X)*0.75)\n",
    "print(div)\n",
    "ngoals=2.5\n",
    "mode='Goals'\n",
    "\n",
    "if(mode=='Goals'):\n",
    "    for i in range (0, len(y)):\n",
    "        if y[i]>ngoals:\n",
    "            y[i]=1\n",
    "        else:\n",
    "            y[i]=0\n",
    "\n",
    "X_train=X[:div]\n",
    "y_train=y[:div]\n",
    "X_test=X[div:]\n",
    "y_test=y[div:]"
   ]
  },
  {
   "cell_type": "code",
   "execution_count": 540,
   "metadata": {},
   "outputs": [
    {
     "name": "stdout",
     "output_type": "stream",
     "text": [
      "[0.95372105 0.21696138 0.0797769  0.8106906  0.2352768  0.9768314\n",
      " 0.02217005 0.9356937  0.23863901 0.95372105 0.89650846 0.22799566\n",
      " 0.15513773 0.23863901 0.709543   0.23863901 0.95372105 0.50527865\n",
      " 0.67365986 0.8647455 ]\n",
      "Accuracy: 0.55\n"
     ]
    }
   ],
   "source": [
    "#XGBoost\n",
    "#Ex https://www.kdnuggets.com/2017/03/simple-xgboost-tutorial-iris-dataset.html\n",
    "import xgboost as xgb\n",
    "from sklearn.model_selection import GridSearchCV\n",
    "\n",
    "\n",
    "dtrain = xgb.DMatrix(X_train, label=y_train)\n",
    "dtest = xgb.DMatrix(X_test, label=y_test)\n",
    "next_g_matrix=xgb.DMatrix(next_g[0])\n",
    "\n",
    "param = {\n",
    "    'max_depth': 3,  # the maximum depth of each tree\n",
    "    'eta': 0.01,  # the training step for each iteration\n",
    "    'silent': 1,  # logging mode - quiet\n",
    "    'objective': 'binary:logistic',  # error evaluation for multiclass training\n",
    "    'eval_metric' : 'logloss'\n",
    "}\n",
    "num_round = 5000 # the number of training iterations\n",
    "\n",
    "bst = xgb.train(param, dtrain, num_round)\n",
    "\n",
    "\n",
    "preds = bst.predict(dtest)\n",
    "print(preds)\n",
    "import numpy as np\n",
    "for i in range (0, len(preds)):\n",
    "    if preds[i]>=0.5:\n",
    "        preds[i]=1\n",
    "    else:\n",
    "        preds[i]=0\n",
    "print (\"Accuracy:\", accuracy_score(y_test, preds))"
   ]
  },
  {
   "cell_type": "code",
   "execution_count": 541,
   "metadata": {},
   "outputs": [
    {
     "name": "stdout",
     "output_type": "stream",
     "text": [
      "O próximo jogo tem uma probabilidade de:  49.90643560886383 % para haver mais que 2.5 golos\n"
     ]
    }
   ],
   "source": [
    "print('O próximo jogo tem uma probabilidade de: ', bst.predict(next_g_matrix)[0]*100, '% para haver mais que', ngoals, 'golos')"
   ]
  },
  {
   "cell_type": "code",
   "execution_count": 542,
   "metadata": {},
   "outputs": [
    {
     "data": {
      "text/plain": [
       "array([1., 0., 0., 1., 0., 1., 0., 1., 0., 1., 1., 0., 0., 0., 1., 0., 1.,\n",
       "       1., 1., 1.], dtype=float32)"
      ]
     },
     "execution_count": 542,
     "metadata": {},
     "output_type": "execute_result"
    }
   ],
   "source": [
    "preds"
   ]
  },
  {
   "cell_type": "code",
   "execution_count": 543,
   "metadata": {},
   "outputs": [
    {
     "data": {
      "text/plain": [
       "array([0, 0, 0, 0, 1, 0, 0, 1, 0, 1, 1, 1, 0, 1, 1, 0, 0, 0, 0, 1])"
      ]
     },
     "execution_count": 543,
     "metadata": {},
     "output_type": "execute_result"
    }
   ],
   "source": [
    "y_test"
   ]
  },
  {
   "cell_type": "code",
   "execution_count": null,
   "metadata": {},
   "outputs": [],
   "source": []
  },
  {
   "cell_type": "code",
   "execution_count": null,
   "metadata": {},
   "outputs": [],
   "source": []
  }
 ],
 "metadata": {
  "kernelspec": {
   "display_name": "Python 3",
   "language": "python",
   "name": "python3"
  },
  "language_info": {
   "codemirror_mode": {
    "name": "ipython",
    "version": 3
   },
   "file_extension": ".py",
   "mimetype": "text/x-python",
   "name": "python",
   "nbconvert_exporter": "python",
   "pygments_lexer": "ipython3",
   "version": "3.6.5"
  }
 },
 "nbformat": 4,
 "nbformat_minor": 2
}
