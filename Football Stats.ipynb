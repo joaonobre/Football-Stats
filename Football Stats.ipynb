{
 "cells": [
  {
   "cell_type": "code",
   "execution_count": 12,
   "metadata": {},
   "outputs": [],
   "source": [
    "import requests\n",
    "import json\n",
    "import numpy as np\n",
    "import pandas as pd\n",
    "from sklearn.linear_model import LinearRegression\n",
    "import xgboost as xgb\n",
    "from xgboost import XGBClassifier\n",
    "from sklearn.model_selection import train_test_split\n",
    "from sklearn.metrics import accuracy_score"
   ]
  },
  {
   "cell_type": "markdown",
   "metadata": {},
   "source": [
    "## Common leagues and abbreviations:\n",
    "* Barclays Premier League: PL\n",
    "* La Liga Santander: PD\n",
    "* Bundesliga: BL1\n",
    "* Liga NOS: PPL\n",
    "* Ligue 1: FL1\n",
    "* Serie A: SA"
   ]
  },
  {
   "cell_type": "code",
   "execution_count": 3,
   "metadata": {},
   "outputs": [
    {
     "name": "stdout",
     "output_type": "stream",
     "text": [
      "List of teams:  ['AFC Bournemouth' 'Arsenal FC' 'Aston Villa FC'\n",
      " 'Brighton & Hove Albion FC' 'Burnley FC' 'Chelsea FC' 'Crystal Palace FC'\n",
      " 'Everton FC' 'Leicester City FC' 'Liverpool FC' 'Manchester City FC'\n",
      " 'Manchester United FC' 'Newcastle United FC' 'Norwich City FC'\n",
      " 'Sheffield United FC' 'Southampton FC' 'Tottenham Hotspur FC'\n",
      " 'Watford FC' 'West Ham United FC' 'Wolverhampton Wanderers FC']\n",
      "Team name:Arsenal FC\n"
     ]
    }
   ],
   "source": [
    "match_master_list=list()\n",
    "league='PL' #insert here the chosen abbreviation\n",
    "\n",
    "for year in range(2017,2020):   \n",
    "    uri = 'http://api.football-data.org/v2/competitions/'+league+'/matches?season=' + str(year)\n",
    "    headers = { 'X-Auth-Token': 'INSERT YOUR TOKEN' }\n",
    "    response = requests.get(uri, headers=headers)      \n",
    "    match_list=response.json()['matches']\n",
    "    match_master_list.append(match_list)\n",
    "    nr_games=len(match_list)\n",
    "    teams_list=list()\n",
    "    \n",
    "    for i in range (0, nr_games):\n",
    "        teams_list.append(match_list[i]['homeTeam']['name'])\n",
    "        \n",
    "    if year == 2019:\n",
    "        teams_list=np.unique(teams_list)\n",
    "        print(\"List of teams: \" ,teams_list)\n",
    "        team=input(\"Team name:\")"
   ]
  },
  {
   "cell_type": "code",
   "execution_count": 4,
   "metadata": {},
   "outputs": [],
   "source": [
    "team_matches=[]\n",
    "next_matches=[]\n",
    "next_home_away=[]\n",
    "score_list=[]\n",
    "goals_list=[]\n",
    "home_away_list=[]\n",
    "winner=[]\n",
    "scheduled=1\n",
    "\n",
    "for j in range (0, len(match_master_list)):\n",
    "    for i in range (0, nr_games):\n",
    "    \n",
    "        if match_master_list[j][i]['homeTeam']['name']==team or match_master_list[j][i]['awayTeam']['name']==team:\n",
    "            \n",
    "            if match_master_list[j][i]['status']=='FINISHED':\n",
    "                game= match_master_list[j][i]['homeTeam']['name']+\" vs \"+ match_master_list[j][i]['awayTeam']['name']\n",
    "                \n",
    "                if (team == game.split(\" vs \")[0]):\n",
    "                    home_away_list.append(1)\n",
    "                    \n",
    "                    if(match_master_list[j][i]['score']['winner']=='HOME_TEAM'):\n",
    "                        winner.append(1)\n",
    "                    \n",
    "                    else:\n",
    "                        winner.append(0)\n",
    "                \n",
    "                else:\n",
    "                    home_away_list.append(0)\n",
    "                    \n",
    "                    if(match_master_list[j][i]['score']['winner']=='AWAY_TEAM'):\n",
    "                        winner.append(1)\n",
    "                    \n",
    "                    else:\n",
    "                        winner.append(0)\n",
    "                        \n",
    "                team_matches.append(game)\n",
    "                result= str(match_master_list[j][i]['score']['fullTime']['homeTeam'])+ \" - \" + str(match_master_list[j][i]['score']['fullTime']['awayTeam'])\n",
    "                score_list.append(result)\n",
    "                goals_list.append(int(match_master_list[j][i]['score']['fullTime']['homeTeam'])+int(match_master_list[j][i]['score']['fullTime']['awayTeam']))\n",
    "                played=len(team_matches)\n",
    "                \n",
    "            if match_master_list[j][i]['status']!='FINISHED':\n",
    "                game= match_master_list[j][i]['homeTeam']['name']+\" vs \"+ match_master_list[j][i]['awayTeam']['name']\n",
    "                \n",
    "                if (team == game.split(\" vs \")[0]):\n",
    "                    home_away_list.append(1)\n",
    "                    \n",
    "                else:\n",
    "                    home_away_list.append(0)\n",
    "                    \n",
    "                team_matches.append(game)\n",
    "                score_list.append(0)\n",
    "                goals_list.append(0)\n",
    "                winner.append(0)"
   ]
  },
  {
   "cell_type": "code",
   "execution_count": 5,
   "metadata": {},
   "outputs": [],
   "source": [
    "#Calling DataFrame constructor after zipping \n",
    "# both lists, with columns specified \n",
    "df = pd.DataFrame(list(zip(team_matches, home_away_list, goals_list, winner)), \n",
    "               columns =['Match', 'Home/Away', 'Goals', 'Won']) \n",
    "\n",
    "labels, uniques = pd.factorize(df.Match)\n",
    "df['Match']=labels"
   ]
  },
  {
   "cell_type": "code",
   "execution_count": 26,
   "metadata": {},
   "outputs": [],
   "source": [
    "mode='Goals' #Choose to predict which team is going to win (insert Won) or how many goals will the match have (insert Goals)\n",
    "ngoals=2.5 #The goals threshold, the game will have more or less than ngoals\n",
    "\n",
    "\n",
    "X=df.filter(['Match', 'Home/Away'], axis=1)[:played]\n",
    "y=df[mode]\n",
    "y=y[:played]\n",
    "next_g=df.filter(['Match', 'Home/Away'], axis=1)[played:]\n",
    "X=np.matrix(X)\n",
    "y=np.array(y)\n",
    "next_g=np.matrix(next_g)\n",
    "\n",
    "div=int(len(X)*0.75)\n",
    "\n",
    "if(mode=='Goals'):\n",
    "    for i in range (0, len(y)):\n",
    "        if y[i]>ngoals:\n",
    "            y[i]=1\n",
    "        else:\n",
    "            y[i]=0\n",
    "\n",
    "X_train=X[:div]\n",
    "y_train=y[:div]\n",
    "X_test=X[div:]\n",
    "y_test=y[div:]"
   ]
  },
  {
   "cell_type": "code",
   "execution_count": 27,
   "metadata": {},
   "outputs": [
    {
     "name": "stdout",
     "output_type": "stream",
     "text": [
      "[0.24165754 0.8478247  0.07041942 0.9549422  0.9020888  0.941284\n",
      " 0.73667264 0.9702425  0.13963985 0.15818782 0.9702425  0.9689304\n",
      " 0.7970919  0.5229887  0.9020888  0.7301381  0.9702425  0.9022018\n",
      " 0.73667264 0.941284   0.7301381  0.9702425 ]\n",
      "Accuracy: 0.5454545454545454\n"
     ]
    }
   ],
   "source": [
    "import xgboost as xgb\n",
    "\n",
    "dtrain = xgb.DMatrix(X_train, label=y_train)\n",
    "dtest = xgb.DMatrix(X_test, label=y_test)\n",
    "next_g_matrix=xgb.DMatrix(next_g[0])\n",
    "\n",
    "param = {\n",
    "    'max_depth': 3,  # the maximum depth of each tree\n",
    "    'eta': 0.01,  # the training step for each iteration\n",
    "    'silent': 1,  # logging mode - quiet\n",
    "    'objective': 'binary:logistic',  # error evaluation for multiclass training\n",
    "    'eval_metric' : 'logloss'\n",
    "}\n",
    "\n",
    "num_round = 5000 # the number of training iterations\n",
    "\n",
    "bst = xgb.train(param, dtrain, num_round)\n",
    "\n",
    "\n",
    "preds = bst.predict(dtest)\n",
    "print(preds)\n",
    "\n",
    "for i in range (0, len(preds)):\n",
    "    \n",
    "    if preds[i]>=0.5:\n",
    "        preds[i]=1\n",
    "    \n",
    "    else:\n",
    "        preds[i]=0\n",
    "        \n",
    "print (\"Accuracy:\", accuracy_score(y_test, preds))"
   ]
  },
  {
   "cell_type": "code",
   "execution_count": 28,
   "metadata": {},
   "outputs": [
    {
     "name": "stdout",
     "output_type": "stream",
     "text": [
      "The next match has a probability of:  63.249671459198 % to have more than 2.5 goals.\n"
     ]
    }
   ],
   "source": [
    "if (mode=='Goals'):\n",
    "    print('The next match has a probability of: ', bst.predict(next_g_matrix)[0]*100, '% to have more than', ngoals, 'goals.')\n",
    "else:\n",
    "    print(team, 'has a probability of: ', bst.predict(next_g_matrix)[0]*100, '% to win the next match.')"
   ]
  },
  {
   "cell_type": "code",
   "execution_count": null,
   "metadata": {},
   "outputs": [],
   "source": []
  }
 ],
 "metadata": {
  "kernelspec": {
   "display_name": "Python 3",
   "language": "python",
   "name": "python3"
  },
  "language_info": {
   "codemirror_mode": {
    "name": "ipython",
    "version": 3
   },
   "file_extension": ".py",
   "mimetype": "text/x-python",
   "name": "python",
   "nbconvert_exporter": "python",
   "pygments_lexer": "ipython3",
   "version": "3.7.3"
  }
 },
 "nbformat": 4,
 "nbformat_minor": 2
}
